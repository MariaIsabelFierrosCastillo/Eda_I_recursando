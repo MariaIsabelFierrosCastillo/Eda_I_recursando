{
 "cells": [
  {
   "cell_type": "code",
   "execution_count": 7,
   "metadata": {},
   "outputs": [
    {
     "name": "stdout",
     "output_type": "stream",
     "text": [
      "10\n",
      "Hola mundo\n",
      "Adiós mundo\n"
     ]
    }
   ],
   "source": [
    "#Inicialización de variables\n",
    "x = 10 #variable de tipo entero\n",
    "print(x)#función para imprimir los valores de las variables\n",
    "\n",
    "#se puede utilizar comillas dobles o simples para crear una cadena\n",
    "cadena1 = \"Hola mundo\" #variable de tipo cadena\n",
    "cadena2 = 'Adiós mundo' #entre los operdores de signo se deja espacio\n",
    "print(cadena1)\n",
    "print(cadena2)"
   ]
  },
  {
   "cell_type": "code",
   "execution_count": 14,
   "metadata": {},
   "outputs": [
    {
     "name": "stdout",
     "output_type": "stream",
     "text": [
      "10 10 10\n",
      "Ardilla Ardilla Ardilla\n"
     ]
    }
   ],
   "source": [
    "#Asigna un mismo valor a tres variables\n",
    "x = y = z = 10 #nota como x ya existía en la celda anterior\n",
    "print(z, x, y) \n",
    "s = t = u = \"Ardilla\"\n",
    "print(s, t, u)"
   ]
  },
  {
   "cell_type": "code",
   "execution_count": 19,
   "metadata": {},
   "outputs": [
    {
     "data": {
      "text/plain": [
       "int"
      ]
     },
     "execution_count": 19,
     "metadata": {},
     "output_type": "execute_result"
    }
   ],
   "source": [
    "#la función type() permite conocer el tipo de variable\n",
    "type(u)\n",
    "type(y)\"\"\"la de arriba no la toma en cuenta\"\"\""
   ]
  },
  {
   "cell_type": "code",
   "execution_count": 20,
   "metadata": {},
   "outputs": [
    {
     "data": {
      "text/plain": [
       "str"
      ]
     },
     "execution_count": 20,
     "metadata": {},
     "output_type": "execute_result"
    }
   ],
   "source": [
    "type(u)"
   ]
  },
  {
   "cell_type": "code",
   "execution_count": 21,
   "metadata": {},
   "outputs": [],
   "source": [
    "#se pueden cambiar los valores de las variables y el tipo se cambia automáticamente\n",
    "x = \"Día de asueto\"\n",
    "cadena = 10"
   ]
  },
  {
   "cell_type": "code",
   "execution_count": 22,
   "metadata": {},
   "outputs": [
    {
     "data": {
      "text/plain": [
       "str"
      ]
     },
     "execution_count": 22,
     "metadata": {},
     "output_type": "execute_result"
    }
   ],
   "source": [
    "type(x)"
   ]
  },
  {
   "cell_type": "code",
   "execution_count": 23,
   "metadata": {},
   "outputs": [
    {
     "data": {
      "text/plain": [
       "int"
      ]
     },
     "execution_count": 23,
     "metadata": {},
     "output_type": "execute_result"
    }
   ],
   "source": [
    "type(cadena)"
   ]
  },
  {
   "attachments": {},
   "cell_type": "markdown",
   "metadata": {},
   "source": [
    "Cuando una variable tiene un valor constante, por convención, el nombre se escribe en mayúsculas."
   ]
  },
  {
   "cell_type": "code",
   "execution_count": 24,
   "metadata": {},
   "outputs": [],
   "source": [
    "SEGUNDOS_POR_DIA = 60*60*24\n",
    "PI = 3.1416"
   ]
  },
  {
   "attachments": {},
   "cell_type": "markdown",
   "metadata": {},
   "source": [
    "**<h4>Cadenas</h4>**\n",
    "Las cadenas pueden ser definidas usando comilla simple (') o comilla doble (\"). Una carcaterística especial de las cadenas es que son inmutables, esto quiere decir que no se pueden cambiar los caracteres que contiene. El caracter \\ sirve para escapar caracteres como \\n \\t."
   ]
  },
  {
   "cell_type": "code",
   "execution_count": 28,
   "metadata": {},
   "outputs": [
    {
     "name": "stdout",
     "output_type": "stream",
     "text": [
      "Hola \n",
      "Mundo\n",
      "Hola Mundo\n"
     ]
    }
   ],
   "source": [
    "#Inicializando cadenas\n",
    "cadena_1 = 'Hola '\n",
    "cadena_2 = \"Mundo\"\n",
    "print(cadena_1)\n",
    "print(cadena_2)\n",
    "concat_cadenas = cadena_1 + cadena_2 #concatenación de cadenas\n",
    "print(concat_cadenas)"
   ]
  },
  {
   "cell_type": "code",
   "execution_count": 31,
   "metadata": {},
   "outputs": [
    {
     "name": "stdout",
     "output_type": "stream",
     "text": [
      "Hola Mundo 3 6\n"
     ]
    }
   ],
   "source": [
    "#Para concatenar un número y una cadena se debe usar la función str()\n",
    "\"\"\" Es como convertir el integrer a string\n",
    "Personalmente puedes pensar que concatenar y unir es lo mismo\"\"\"\n",
    "num_cadena = conc_cadenas + ' ' + str(3)+ \" \" + str(6) #se agrega cadena vacía en dos ocaciones para agregar espacio, la primera vez con comilla simple y la segunda con comilla doble\n",
    "print(num_cadena)"
   ]
  },
  {
   "attachments": {},
   "cell_type": "markdown",
   "metadata": {},
   "source": [
    "Para concatenar cadenas se recomienda el uso de la función format(), en lugar del viejo estilo del operador '+'."
   ]
  },
  {
   "cell_type": "code",
   "execution_count": null,
   "metadata": {},
   "outputs": [],
   "source": []
  },
  {
   "cell_type": "markdown",
   "metadata": {},
   "source": []
  }
 ],
 "metadata": {
  "kernelspec": {
   "display_name": "Python 3",
   "language": "python",
   "name": "python3"
  },
  "language_info": {
   "codemirror_mode": {
    "name": "ipython",
    "version": 3
   },
   "file_extension": ".py",
   "mimetype": "text/x-python",
   "name": "python",
   "nbconvert_exporter": "python",
   "pygments_lexer": "ipython3",
   "version": "3.11.1"
  },
  "orig_nbformat": 4
 },
 "nbformat": 4,
 "nbformat_minor": 2
}
